{
 "cells": [
  {
   "cell_type": "code",
   "execution_count": 2,
   "metadata": {},
   "outputs": [
    {
     "name": "stderr",
     "output_type": "stream",
     "text": [
      "C:\\Users\\Admin\\AppData\\Local\\Temp\\ipykernel_6416\\2348372001.py:1: DeprecationWarning: \n",
      "Pyarrow will become a required dependency of pandas in the next major release of pandas (pandas 3.0),\n",
      "(to allow more performant data types, such as the Arrow string type, and better interoperability with other libraries)\n",
      "but was not found to be installed on your system.\n",
      "If this would cause problems for you,\n",
      "please provide us feedback at https://github.com/pandas-dev/pandas/issues/54466\n",
      "        \n",
      "  import pandas as pd\n"
     ]
    }
   ],
   "source": [
    "import pandas as pd\n",
    "from scipy.stats import ttest_ind\n",
    "from scipy.stats import f_oneway\n",
    "from scipy.stats import levene\n",
    "import scipy.stats as st\n",
    "import pingouin as pg\n",
    "import numpy as np\n",
    "import seaborn as sns"
   ]
  },
  {
   "cell_type": "code",
   "execution_count": 3,
   "metadata": {},
   "outputs": [
    {
     "data": {
      "text/html": [
       "<div>\n",
       "<style scoped>\n",
       "    .dataframe tbody tr th:only-of-type {\n",
       "        vertical-align: middle;\n",
       "    }\n",
       "\n",
       "    .dataframe tbody tr th {\n",
       "        vertical-align: top;\n",
       "    }\n",
       "\n",
       "    .dataframe thead th {\n",
       "        text-align: right;\n",
       "    }\n",
       "</style>\n",
       "<table border=\"1\" class=\"dataframe\">\n",
       "  <thead>\n",
       "    <tr style=\"text-align: right;\">\n",
       "      <th></th>\n",
       "      <th>RespondentID</th>\n",
       "      <th>Sex</th>\n",
       "      <th>AgeGroup</th>\n",
       "      <th>Weight</th>\n",
       "      <th>ResearchDate</th>\n",
       "      <th>Start</th>\n",
       "      <th>Stop</th>\n",
       "      <th>Duration</th>\n",
       "      <th>MediaProductID</th>\n",
       "      <th>MediaType</th>\n",
       "    </tr>\n",
       "  </thead>\n",
       "  <tbody>\n",
       "    <tr>\n",
       "      <th>0</th>\n",
       "      <td>resp1</td>\n",
       "      <td>Женщины</td>\n",
       "      <td>55+</td>\n",
       "      <td>5.937</td>\n",
       "      <td>2023-02-09</td>\n",
       "      <td>2023-02-09 00:05:36</td>\n",
       "      <td>2023-02-09 00:06:13</td>\n",
       "      <td>37.0</td>\n",
       "      <td>1000435.0</td>\n",
       "      <td>Radio</td>\n",
       "    </tr>\n",
       "    <tr>\n",
       "      <th>1</th>\n",
       "      <td>resp1</td>\n",
       "      <td>Женщины</td>\n",
       "      <td>55+</td>\n",
       "      <td>5.937</td>\n",
       "      <td>2023-02-09</td>\n",
       "      <td>2023-02-09 00:05:36</td>\n",
       "      <td>2023-02-09 00:06:13</td>\n",
       "      <td>37.0</td>\n",
       "      <td>1000435.0</td>\n",
       "      <td>Radio</td>\n",
       "    </tr>\n",
       "    <tr>\n",
       "      <th>2</th>\n",
       "      <td>resp1</td>\n",
       "      <td>Женщины</td>\n",
       "      <td>55+</td>\n",
       "      <td>5.937</td>\n",
       "      <td>2023-02-09</td>\n",
       "      <td>2023-02-09 00:06:13</td>\n",
       "      <td>2023-02-09 00:06:26</td>\n",
       "      <td>13.0</td>\n",
       "      <td>1000437.0</td>\n",
       "      <td>Radio</td>\n",
       "    </tr>\n",
       "    <tr>\n",
       "      <th>3</th>\n",
       "      <td>resp1</td>\n",
       "      <td>Женщины</td>\n",
       "      <td>55+</td>\n",
       "      <td>5.937</td>\n",
       "      <td>2023-02-09</td>\n",
       "      <td>2023-02-09 00:06:26</td>\n",
       "      <td>2023-02-09 00:21:01</td>\n",
       "      <td>875.0</td>\n",
       "      <td>1000438.0</td>\n",
       "      <td>Radio</td>\n",
       "    </tr>\n",
       "    <tr>\n",
       "      <th>4</th>\n",
       "      <td>resp1</td>\n",
       "      <td>Женщины</td>\n",
       "      <td>55+</td>\n",
       "      <td>5.937</td>\n",
       "      <td>2023-02-09</td>\n",
       "      <td>2023-02-09 00:20:51</td>\n",
       "      <td>2023-02-09 00:20:57</td>\n",
       "      <td>6.0</td>\n",
       "      <td>16567.0</td>\n",
       "      <td>Mobile</td>\n",
       "    </tr>\n",
       "    <tr>\n",
       "      <th>...</th>\n",
       "      <td>...</td>\n",
       "      <td>...</td>\n",
       "      <td>...</td>\n",
       "      <td>...</td>\n",
       "      <td>...</td>\n",
       "      <td>...</td>\n",
       "      <td>...</td>\n",
       "      <td>...</td>\n",
       "      <td>...</td>\n",
       "      <td>...</td>\n",
       "    </tr>\n",
       "    <tr>\n",
       "      <th>500094</th>\n",
       "      <td>resp999</td>\n",
       "      <td>Мужчины</td>\n",
       "      <td>55+</td>\n",
       "      <td>3.964</td>\n",
       "      <td>2023-02-10</td>\n",
       "      <td>2023-02-10 23:13:24</td>\n",
       "      <td>2023-02-10 23:16:04</td>\n",
       "      <td>160.0</td>\n",
       "      <td>1873.0</td>\n",
       "      <td>TV</td>\n",
       "    </tr>\n",
       "    <tr>\n",
       "      <th>500095</th>\n",
       "      <td>resp999</td>\n",
       "      <td>Мужчины</td>\n",
       "      <td>55+</td>\n",
       "      <td>3.964</td>\n",
       "      <td>2023-02-10</td>\n",
       "      <td>2023-02-10 23:16:04</td>\n",
       "      <td>2023-02-10 23:17:13</td>\n",
       "      <td>69.0</td>\n",
       "      <td>1867.0</td>\n",
       "      <td>TV</td>\n",
       "    </tr>\n",
       "    <tr>\n",
       "      <th>500096</th>\n",
       "      <td>resp999</td>\n",
       "      <td>Мужчины</td>\n",
       "      <td>55+</td>\n",
       "      <td>3.964</td>\n",
       "      <td>2023-02-10</td>\n",
       "      <td>2023-02-10 23:16:56</td>\n",
       "      <td>2023-02-10 23:17:01</td>\n",
       "      <td>5.0</td>\n",
       "      <td>17349.0</td>\n",
       "      <td>Mobile</td>\n",
       "    </tr>\n",
       "    <tr>\n",
       "      <th>500097</th>\n",
       "      <td>resp999</td>\n",
       "      <td>Мужчины</td>\n",
       "      <td>55+</td>\n",
       "      <td>3.964</td>\n",
       "      <td>2023-02-10</td>\n",
       "      <td>2023-02-10 23:17:13</td>\n",
       "      <td>2023-02-10 23:17:37</td>\n",
       "      <td>24.0</td>\n",
       "      <td>1873.0</td>\n",
       "      <td>TV</td>\n",
       "    </tr>\n",
       "    <tr>\n",
       "      <th>500098</th>\n",
       "      <td>resp999</td>\n",
       "      <td>Мужчины</td>\n",
       "      <td>55+</td>\n",
       "      <td>3.964</td>\n",
       "      <td>2023-02-10</td>\n",
       "      <td>2023-02-10 23:17:37</td>\n",
       "      <td>2023-02-10 23:39:51</td>\n",
       "      <td>1334.0</td>\n",
       "      <td>1858.0</td>\n",
       "      <td>TV</td>\n",
       "    </tr>\n",
       "  </tbody>\n",
       "</table>\n",
       "<p>500099 rows × 10 columns</p>\n",
       "</div>"
      ],
      "text/plain": [
       "       RespondentID      Sex AgeGroup  Weight ResearchDate  \\\n",
       "0             resp1  Женщины      55+   5.937   2023-02-09   \n",
       "1             resp1  Женщины      55+   5.937   2023-02-09   \n",
       "2             resp1  Женщины      55+   5.937   2023-02-09   \n",
       "3             resp1  Женщины      55+   5.937   2023-02-09   \n",
       "4             resp1  Женщины      55+   5.937   2023-02-09   \n",
       "...             ...      ...      ...     ...          ...   \n",
       "500094      resp999  Мужчины      55+   3.964   2023-02-10   \n",
       "500095      resp999  Мужчины      55+   3.964   2023-02-10   \n",
       "500096      resp999  Мужчины      55+   3.964   2023-02-10   \n",
       "500097      resp999  Мужчины      55+   3.964   2023-02-10   \n",
       "500098      resp999  Мужчины      55+   3.964   2023-02-10   \n",
       "\n",
       "                      Start                 Stop  Duration  MediaProductID  \\\n",
       "0       2023-02-09 00:05:36  2023-02-09 00:06:13      37.0       1000435.0   \n",
       "1       2023-02-09 00:05:36  2023-02-09 00:06:13      37.0       1000435.0   \n",
       "2       2023-02-09 00:06:13  2023-02-09 00:06:26      13.0       1000437.0   \n",
       "3       2023-02-09 00:06:26  2023-02-09 00:21:01     875.0       1000438.0   \n",
       "4       2023-02-09 00:20:51  2023-02-09 00:20:57       6.0         16567.0   \n",
       "...                     ...                  ...       ...             ...   \n",
       "500094  2023-02-10 23:13:24  2023-02-10 23:16:04     160.0          1873.0   \n",
       "500095  2023-02-10 23:16:04  2023-02-10 23:17:13      69.0          1867.0   \n",
       "500096  2023-02-10 23:16:56  2023-02-10 23:17:01       5.0         17349.0   \n",
       "500097  2023-02-10 23:17:13  2023-02-10 23:17:37      24.0          1873.0   \n",
       "500098  2023-02-10 23:17:37  2023-02-10 23:39:51    1334.0          1858.0   \n",
       "\n",
       "       MediaType  \n",
       "0          Radio  \n",
       "1          Radio  \n",
       "2          Radio  \n",
       "3          Radio  \n",
       "4         Mobile  \n",
       "...          ...  \n",
       "500094        TV  \n",
       "500095        TV  \n",
       "500096    Mobile  \n",
       "500097        TV  \n",
       "500098        TV  \n",
       "\n",
       "[500099 rows x 10 columns]"
      ]
     },
     "execution_count": 3,
     "metadata": {},
     "output_type": "execute_result"
    }
   ],
   "source": [
    "'''\n",
    "RespondentID - респондент\n",
    "Sex - пол респондента\n",
    "AgeGroup - возрастная группа респондента\n",
    "Weight - вывод по этому параметру далее по notebookу\n",
    "ResearchDate - дата сессии пользования медиа\n",
    "Start - начало сессии\n",
    "Stop - конец сессии\n",
    "Duration - время сессии в секундах\n",
    "MediaProductID - айди канала радио или канал телевидения\n",
    "MediaType - тип медиа\n",
    "'''\n",
    "df = pd.read_excel('partner_in_analysis_BI.xlsx', sheet_name = 'data')\n",
    "df"
   ]
  },
  {
   "cell_type": "code",
   "execution_count": 4,
   "metadata": {},
   "outputs": [
    {
     "data": {
      "text/plain": [
       "RespondentID        2132\n",
       "Sex                    2\n",
       "AgeGroup               5\n",
       "Weight               337\n",
       "ResearchDate           3\n",
       "Start             168175\n",
       "Stop              178904\n",
       "Duration            7187\n",
       "MediaProductID      1628\n",
       "MediaType              3\n",
       "dtype: int64"
      ]
     },
     "execution_count": 4,
     "metadata": {},
     "output_type": "execute_result"
    }
   ],
   "source": [
    "df.nunique()"
   ]
  },
  {
   "cell_type": "code",
   "execution_count": 5,
   "metadata": {},
   "outputs": [],
   "source": [
    "df.Start = pd.to_datetime(df.Start)\n",
    "df.Stop = pd.to_datetime(df.Stop)\n",
    "# Переведм колонки Start и Stop в удобный формат"
   ]
  },
  {
   "cell_type": "code",
   "execution_count": 6,
   "metadata": {},
   "outputs": [
    {
     "data": {
      "text/html": [
       "<div>\n",
       "<style scoped>\n",
       "    .dataframe tbody tr th:only-of-type {\n",
       "        vertical-align: middle;\n",
       "    }\n",
       "\n",
       "    .dataframe tbody tr th {\n",
       "        vertical-align: top;\n",
       "    }\n",
       "\n",
       "    .dataframe thead th {\n",
       "        text-align: right;\n",
       "    }\n",
       "</style>\n",
       "<table border=\"1\" class=\"dataframe\">\n",
       "  <thead>\n",
       "    <tr style=\"text-align: right;\">\n",
       "      <th></th>\n",
       "      <th>RespondentID</th>\n",
       "      <th>Sex</th>\n",
       "      <th>AgeGroup</th>\n",
       "      <th>Weight</th>\n",
       "      <th>ResearchDate</th>\n",
       "      <th>Start</th>\n",
       "      <th>Stop</th>\n",
       "      <th>Duration</th>\n",
       "      <th>MediaProductID</th>\n",
       "      <th>MediaType</th>\n",
       "    </tr>\n",
       "  </thead>\n",
       "  <tbody>\n",
       "    <tr>\n",
       "      <th>287</th>\n",
       "      <td>NaN</td>\n",
       "      <td>NaN</td>\n",
       "      <td>NaN</td>\n",
       "      <td>NaN</td>\n",
       "      <td>NaT</td>\n",
       "      <td>NaT</td>\n",
       "      <td>NaT</td>\n",
       "      <td>NaN</td>\n",
       "      <td>NaN</td>\n",
       "      <td>NaN</td>\n",
       "    </tr>\n",
       "    <tr>\n",
       "      <th>470459</th>\n",
       "      <td>resp877</td>\n",
       "      <td>Мужчины</td>\n",
       "      <td>55+</td>\n",
       "      <td>11.827</td>\n",
       "      <td>NaT</td>\n",
       "      <td>NaT</td>\n",
       "      <td>NaT</td>\n",
       "      <td>NaN</td>\n",
       "      <td>1000052.0</td>\n",
       "      <td>Radio</td>\n",
       "    </tr>\n",
       "  </tbody>\n",
       "</table>\n",
       "</div>"
      ],
      "text/plain": [
       "       RespondentID      Sex AgeGroup  Weight ResearchDate Start Stop  \\\n",
       "287             NaN      NaN      NaN     NaN          NaT   NaT  NaT   \n",
       "470459      resp877  Мужчины      55+  11.827          NaT   NaT  NaT   \n",
       "\n",
       "        Duration  MediaProductID MediaType  \n",
       "287          NaN             NaN       NaN  \n",
       "470459       NaN       1000052.0     Radio  "
      ]
     },
     "execution_count": 6,
     "metadata": {},
     "output_type": "execute_result"
    }
   ],
   "source": [
    "df[(df.Stop - df.Start).dt.total_seconds() != df.Duration]\n",
    "# Валидация разности колонок Start и Stop и колонки Duration\n",
    "# Строчка с индексом 470459 не имеет сессии - не будем её считать"
   ]
  },
  {
   "cell_type": "code",
   "execution_count": 7,
   "metadata": {},
   "outputs": [],
   "source": [
    "df = df[(df.Duration.isna() == False) & (df.Duration > 0)]\n",
    "# Убираем строчку с NaNами и Duration < 0"
   ]
  },
  {
   "cell_type": "code",
   "execution_count": null,
   "metadata": {},
   "outputs": [],
   "source": []
  },
  {
   "cell_type": "code",
   "execution_count": 8,
   "metadata": {},
   "outputs": [
    {
     "data": {
      "text/plain": [
       "<Axes: xlabel='Weight', ylabel='ResearchDate'>"
      ]
     },
     "execution_count": 8,
     "metadata": {},
     "output_type": "execute_result"
    },
    {
     "data": {
      "image/png": "[encoded data removed]",
      "text/plain": [
       "<Figure size 640x480 with 1 Axes>"
      ]
     },
     "metadata": {},
     "output_type": "display_data"
    }
   ],
   "source": [
    "sns.scatterplot(x = 'Weight', y = 'ResearchDate', data = df)"
   ]
  },
  {
   "cell_type": "code",
   "execution_count": 9,
   "metadata": {},
   "outputs": [
    {
     "data": {
      "text/plain": [
       "<Axes: xlabel='Weight', ylabel='Duration'>"
      ]
     },
     "execution_count": 9,
     "metadata": {},
     "output_type": "execute_result"
    },
    {
     "data": {
      "image/png": "[encoded data removed]",
      "text/plain": [
       "<Figure size 640x480 with 1 Axes>"
      ]
     },
     "metadata": {},
     "output_type": "display_data"
    }
   ],
   "source": [
    "sns.scatterplot(x = 'Weight', y = 'Duration', data = df)"
   ]
  },
  {
   "cell_type": "code",
   "execution_count": 10,
   "metadata": {},
   "outputs": [
    {
     "data": {
      "text/plain": [
       "<Axes: xlabel='AgeGroup', ylabel='Duration'>"
      ]
     },
     "execution_count": 10,
     "metadata": {},
     "output_type": "execute_result"
    },
    {
     "data": {
      "image/png": "[encoded data removed]",
      "text/plain": [
       "<Figure size 640x480 with 1 Axes>"
      ]
     },
     "metadata": {},
     "output_type": "display_data"
    }
   ],
   "source": [
    "sns.scatterplot(x = 'AgeGroup', y = 'Duration', data = df)"
   ]
  },
  {
   "cell_type": "code",
   "execution_count": 11,
   "metadata": {},
   "outputs": [
    {
     "data": {
      "text/plain": [
       "PearsonRResult(statistic=-0.0021073675290891347, pvalue=0.13615276685527747)"
      ]
     },
     "execution_count": 11,
     "metadata": {},
     "output_type": "execute_result"
    }
   ],
   "source": [
    "st.pearsonr(df.Weight, df.Duration)"
   ]
  },
  {
   "cell_type": "markdown",
   "metadata": {},
   "source": [
    "Не могу сказать, что такое Weight. По диаграмме рассеивания Weight ни с одной другой колонкой не коррелирует, т.е. нет никакой взаимосвязи."
   ]
  },
  {
   "cell_type": "code",
   "execution_count": null,
   "metadata": {},
   "outputs": [],
   "source": []
  },
  {
   "cell_type": "code",
   "execution_count": 12,
   "metadata": {},
   "outputs": [
    {
     "data": {
      "text/html": [
       "<div>\n",
       "<style scoped>\n",
       "    .dataframe tbody tr th:only-of-type {\n",
       "        vertical-align: middle;\n",
       "    }\n",
       "\n",
       "    .dataframe tbody tr th {\n",
       "        vertical-align: top;\n",
       "    }\n",
       "\n",
       "    .dataframe thead th {\n",
       "        text-align: right;\n",
       "    }\n",
       "</style>\n",
       "<table border=\"1\" class=\"dataframe\">\n",
       "  <thead>\n",
       "    <tr style=\"text-align: right;\">\n",
       "      <th></th>\n",
       "      <th>RespondentID</th>\n",
       "      <th>Sex</th>\n",
       "      <th>AgeGroup</th>\n",
       "      <th>ResearchDate</th>\n",
       "      <th>MediaType</th>\n",
       "      <th>Duration</th>\n",
       "    </tr>\n",
       "  </thead>\n",
       "  <tbody>\n",
       "    <tr>\n",
       "      <th>0</th>\n",
       "      <td>resp1</td>\n",
       "      <td>Женщины</td>\n",
       "      <td>55+</td>\n",
       "      <td>2023-02-09</td>\n",
       "      <td>Mobile</td>\n",
       "      <td>6103.0</td>\n",
       "    </tr>\n",
       "    <tr>\n",
       "      <th>1</th>\n",
       "      <td>resp1</td>\n",
       "      <td>Женщины</td>\n",
       "      <td>55+</td>\n",
       "      <td>2023-02-09</td>\n",
       "      <td>Radio</td>\n",
       "      <td>20550.0</td>\n",
       "    </tr>\n",
       "    <tr>\n",
       "      <th>2</th>\n",
       "      <td>resp1</td>\n",
       "      <td>Женщины</td>\n",
       "      <td>55+</td>\n",
       "      <td>2023-02-09</td>\n",
       "      <td>TV</td>\n",
       "      <td>12723.0</td>\n",
       "    </tr>\n",
       "    <tr>\n",
       "      <th>3</th>\n",
       "      <td>resp1</td>\n",
       "      <td>Женщины</td>\n",
       "      <td>55+</td>\n",
       "      <td>2023-02-11</td>\n",
       "      <td>Mobile</td>\n",
       "      <td>3224.0</td>\n",
       "    </tr>\n",
       "    <tr>\n",
       "      <th>4</th>\n",
       "      <td>resp1</td>\n",
       "      <td>Женщины</td>\n",
       "      <td>55+</td>\n",
       "      <td>2023-02-11</td>\n",
       "      <td>Radio</td>\n",
       "      <td>10096.0</td>\n",
       "    </tr>\n",
       "    <tr>\n",
       "      <th>...</th>\n",
       "      <td>...</td>\n",
       "      <td>...</td>\n",
       "      <td>...</td>\n",
       "      <td>...</td>\n",
       "      <td>...</td>\n",
       "      <td>...</td>\n",
       "    </tr>\n",
       "    <tr>\n",
       "      <th>11577</th>\n",
       "      <td>resp998</td>\n",
       "      <td>Женщины</td>\n",
       "      <td>55+</td>\n",
       "      <td>2023-02-11</td>\n",
       "      <td>TV</td>\n",
       "      <td>45442.0</td>\n",
       "    </tr>\n",
       "    <tr>\n",
       "      <th>11578</th>\n",
       "      <td>resp999</td>\n",
       "      <td>Мужчины</td>\n",
       "      <td>55+</td>\n",
       "      <td>2023-02-09</td>\n",
       "      <td>Mobile</td>\n",
       "      <td>1741.0</td>\n",
       "    </tr>\n",
       "    <tr>\n",
       "      <th>11579</th>\n",
       "      <td>resp999</td>\n",
       "      <td>Мужчины</td>\n",
       "      <td>55+</td>\n",
       "      <td>2023-02-09</td>\n",
       "      <td>TV</td>\n",
       "      <td>14126.0</td>\n",
       "    </tr>\n",
       "    <tr>\n",
       "      <th>11580</th>\n",
       "      <td>resp999</td>\n",
       "      <td>Мужчины</td>\n",
       "      <td>55+</td>\n",
       "      <td>2023-02-10</td>\n",
       "      <td>Mobile</td>\n",
       "      <td>4363.0</td>\n",
       "    </tr>\n",
       "    <tr>\n",
       "      <th>11581</th>\n",
       "      <td>resp999</td>\n",
       "      <td>Мужчины</td>\n",
       "      <td>55+</td>\n",
       "      <td>2023-02-10</td>\n",
       "      <td>TV</td>\n",
       "      <td>13523.0</td>\n",
       "    </tr>\n",
       "  </tbody>\n",
       "</table>\n",
       "<p>11582 rows × 6 columns</p>\n",
       "</div>"
      ],
      "text/plain": [
       "      RespondentID      Sex AgeGroup ResearchDate MediaType  Duration\n",
       "0            resp1  Женщины      55+   2023-02-09    Mobile    6103.0\n",
       "1            resp1  Женщины      55+   2023-02-09     Radio   20550.0\n",
       "2            resp1  Женщины      55+   2023-02-09        TV   12723.0\n",
       "3            resp1  Женщины      55+   2023-02-11    Mobile    3224.0\n",
       "4            resp1  Женщины      55+   2023-02-11     Radio   10096.0\n",
       "...            ...      ...      ...          ...       ...       ...\n",
       "11577      resp998  Женщины      55+   2023-02-11        TV   45442.0\n",
       "11578      resp999  Мужчины      55+   2023-02-09    Mobile    1741.0\n",
       "11579      resp999  Мужчины      55+   2023-02-09        TV   14126.0\n",
       "11580      resp999  Мужчины      55+   2023-02-10    Mobile    4363.0\n",
       "11581      resp999  Мужчины      55+   2023-02-10        TV   13523.0\n",
       "\n",
       "[11582 rows x 6 columns]"
      ]
     },
     "execution_count": 12,
     "metadata": {},
     "output_type": "execute_result"
    }
   ],
   "source": [
    "prep_df = df.groupby(['RespondentID', 'Sex', 'AgeGroup', 'ResearchDate', 'MediaType'] , as_index = False).agg({'Duration': 'sum'})\n",
    "prep_df"
   ]
  },
  {
   "cell_type": "code",
   "execution_count": 13,
   "metadata": {},
   "outputs": [
    {
     "data": {
      "text/plain": [
       "<Axes: xlabel='Sex', ylabel='Duration'>"
      ]
     },
     "execution_count": 13,
     "metadata": {},
     "output_type": "execute_result"
    },
    {
     "data": {
      "image/png": "[encoded data removed]",
      "text/plain": [
       "<Figure size 640x480 with 1 Axes>"
      ]
     },
     "metadata": {},
     "output_type": "display_data"
    }
   ],
   "source": [
    "sns.boxplot(data = prep_df, x = 'Sex', y = 'Duration')"
   ]
  },
  {
   "cell_type": "code",
   "execution_count": 14,
   "metadata": {},
   "outputs": [
    {
     "data": {
      "text/plain": [
       "<Axes: xlabel='AgeGroup', ylabel='Duration'>"
      ]
     },
     "execution_count": 14,
     "metadata": {},
     "output_type": "execute_result"
    },
    {
     "data": {
      "image/png": "[encoded data removed]",
      "text/plain": [
       "<Figure size 640x480 with 1 Axes>"
      ]
     },
     "metadata": {},
     "output_type": "display_data"
    }
   ],
   "source": [
    "sns.boxplot(data = prep_df, x = 'AgeGroup', y = 'Duration')"
   ]
  },
  {
   "cell_type": "code",
   "execution_count": 15,
   "metadata": {},
   "outputs": [
    {
     "data": {
      "text/plain": [
       "<Axes: xlabel='ResearchDate', ylabel='Duration'>"
      ]
     },
     "execution_count": 15,
     "metadata": {},
     "output_type": "execute_result"
    },
    {
     "data": {
      "image/png": "[encoded data removed]",
      "text/plain": [
       "<Figure size 640x480 with 1 Axes>"
      ]
     },
     "metadata": {},
     "output_type": "display_data"
    }
   ],
   "source": [
    "sns.boxplot(data = prep_df, x = 'ResearchDate', y = 'Duration')"
   ]
  },
  {
   "cell_type": "code",
   "execution_count": 16,
   "metadata": {},
   "outputs": [
    {
     "data": {
      "text/plain": [
       "<Axes: xlabel='MediaType', ylabel='Duration'>"
      ]
     },
     "execution_count": 16,
     "metadata": {},
     "output_type": "execute_result"
    },
    {
     "data": {
      "image/png": "[encoded data removed]",
      "text/plain": [
       "<Figure size 640x480 with 1 Axes>"
      ]
     },
     "metadata": {},
     "output_type": "display_data"
    }
   ],
   "source": [
    "sns.boxplot(data = prep_df, x = 'MediaType', y = 'Duration')"
   ]
  },
  {
   "cell_type": "code",
   "execution_count": 17,
   "metadata": {},
   "outputs": [
    {
     "data": {
      "text/plain": [
       "2132"
      ]
     },
     "execution_count": 17,
     "metadata": {},
     "output_type": "execute_result"
    }
   ],
   "source": [
    "resp_count = df.RespondentID.nunique()\n",
    "resp_count\n",
    "# Кол-во рассматриваемых респондентов"
   ]
  },
  {
   "cell_type": "code",
   "execution_count": 18,
   "metadata": {},
   "outputs": [
    {
     "data": {
      "text/html": [
       "<div>\n",
       "<style scoped>\n",
       "    .dataframe tbody tr th:only-of-type {\n",
       "        vertical-align: middle;\n",
       "    }\n",
       "\n",
       "    .dataframe tbody tr th {\n",
       "        vertical-align: top;\n",
       "    }\n",
       "\n",
       "    .dataframe thead th {\n",
       "        text-align: right;\n",
       "    }\n",
       "</style>\n",
       "<table border=\"1\" class=\"dataframe\">\n",
       "  <thead>\n",
       "    <tr style=\"text-align: right;\">\n",
       "      <th></th>\n",
       "      <th>RespondentID</th>\n",
       "      <th>MediaType</th>\n",
       "      <th>Duration</th>\n",
       "    </tr>\n",
       "  </thead>\n",
       "  <tbody>\n",
       "    <tr>\n",
       "      <th>0</th>\n",
       "      <td>resp1</td>\n",
       "      <td>Mobile</td>\n",
       "      <td>9327.0</td>\n",
       "    </tr>\n",
       "    <tr>\n",
       "      <th>1</th>\n",
       "      <td>resp1</td>\n",
       "      <td>Radio</td>\n",
       "      <td>30646.0</td>\n",
       "    </tr>\n",
       "    <tr>\n",
       "      <th>2</th>\n",
       "      <td>resp1</td>\n",
       "      <td>TV</td>\n",
       "      <td>38774.0</td>\n",
       "    </tr>\n",
       "    <tr>\n",
       "      <th>3</th>\n",
       "      <td>resp10</td>\n",
       "      <td>Mobile</td>\n",
       "      <td>17908.0</td>\n",
       "    </tr>\n",
       "    <tr>\n",
       "      <th>4</th>\n",
       "      <td>resp10</td>\n",
       "      <td>Radio</td>\n",
       "      <td>3374.0</td>\n",
       "    </tr>\n",
       "    <tr>\n",
       "      <th>...</th>\n",
       "      <td>...</td>\n",
       "      <td>...</td>\n",
       "      <td>...</td>\n",
       "    </tr>\n",
       "    <tr>\n",
       "      <th>5212</th>\n",
       "      <td>resp997</td>\n",
       "      <td>TV</td>\n",
       "      <td>40065.0</td>\n",
       "    </tr>\n",
       "    <tr>\n",
       "      <th>5213</th>\n",
       "      <td>resp998</td>\n",
       "      <td>Mobile</td>\n",
       "      <td>18650.0</td>\n",
       "    </tr>\n",
       "    <tr>\n",
       "      <th>5214</th>\n",
       "      <td>resp998</td>\n",
       "      <td>TV</td>\n",
       "      <td>90380.0</td>\n",
       "    </tr>\n",
       "    <tr>\n",
       "      <th>5215</th>\n",
       "      <td>resp999</td>\n",
       "      <td>Mobile</td>\n",
       "      <td>6104.0</td>\n",
       "    </tr>\n",
       "    <tr>\n",
       "      <th>5216</th>\n",
       "      <td>resp999</td>\n",
       "      <td>TV</td>\n",
       "      <td>27649.0</td>\n",
       "    </tr>\n",
       "  </tbody>\n",
       "</table>\n",
       "<p>5217 rows × 3 columns</p>\n",
       "</div>"
      ],
      "text/plain": [
       "     RespondentID MediaType  Duration\n",
       "0           resp1    Mobile    9327.0\n",
       "1           resp1     Radio   30646.0\n",
       "2           resp1        TV   38774.0\n",
       "3          resp10    Mobile   17908.0\n",
       "4          resp10     Radio    3374.0\n",
       "...           ...       ...       ...\n",
       "5212      resp997        TV   40065.0\n",
       "5213      resp998    Mobile   18650.0\n",
       "5214      resp998        TV   90380.0\n",
       "5215      resp999    Mobile    6104.0\n",
       "5216      resp999        TV   27649.0\n",
       "\n",
       "[5217 rows x 3 columns]"
      ]
     },
     "execution_count": 18,
     "metadata": {},
     "output_type": "execute_result"
    }
   ],
   "source": [
    "df_media_duration = prep_df.groupby(['RespondentID', 'MediaType'], as_index = False).agg({'Duration': 'sum'})\n",
    "df_media_duration\n",
    "# Кол-во сессий по медиа и суммарный их просмотр в секундах"
   ]
  },
  {
   "cell_type": "code",
   "execution_count": 19,
   "metadata": {},
   "outputs": [
    {
     "data": {
      "text/plain": [
       "LeveneResult(statistic=354.3679700694613, pvalue=5.0008888993729546e-145)"
      ]
     },
     "execution_count": 19,
     "metadata": {},
     "output_type": "execute_result"
    }
   ],
   "source": [
    "'''Проверям равенстов дисперсий'''\n",
    "levene(df_media_duration[df_media_duration.MediaType == 'Mobile'].Duration, df_media_duration[df_media_duration.MediaType == 'Radio'].Duration, df_media_duration[df_media_duration.MediaType == 'TV'].Duration)\n",
    "# Дисперсии не равны, следовательно применим дисперсионный анализ Уэлча"
   ]
  },
  {
   "cell_type": "code",
   "execution_count": 20,
   "metadata": {},
   "outputs": [
    {
     "data": {
      "text/html": [
       "<div>\n",
       "<style scoped>\n",
       "    .dataframe tbody tr th:only-of-type {\n",
       "        vertical-align: middle;\n",
       "    }\n",
       "\n",
       "    .dataframe tbody tr th {\n",
       "        vertical-align: top;\n",
       "    }\n",
       "\n",
       "    .dataframe thead th {\n",
       "        text-align: right;\n",
       "    }\n",
       "</style>\n",
       "<table border=\"1\" class=\"dataframe\">\n",
       "  <thead>\n",
       "    <tr style=\"text-align: right;\">\n",
       "      <th></th>\n",
       "      <th>Source</th>\n",
       "      <th>ddof1</th>\n",
       "      <th>ddof2</th>\n",
       "      <th>F</th>\n",
       "      <th>p-unc</th>\n",
       "      <th>np2</th>\n",
       "    </tr>\n",
       "  </thead>\n",
       "  <tbody>\n",
       "    <tr>\n",
       "      <th>0</th>\n",
       "      <td>MediaType</td>\n",
       "      <td>2</td>\n",
       "      <td>3290.468179</td>\n",
       "      <td>934.844484</td>\n",
       "      <td>3.260833e-322</td>\n",
       "      <td>0.141166</td>\n",
       "    </tr>\n",
       "  </tbody>\n",
       "</table>\n",
       "</div>"
      ],
      "text/plain": [
       "      Source  ddof1        ddof2           F          p-unc       np2\n",
       "0  MediaType      2  3290.468179  934.844484  3.260833e-322  0.141166"
      ]
     },
     "execution_count": 20,
     "metadata": {},
     "output_type": "execute_result"
    }
   ],
   "source": [
    "pg.welch_anova(data=df_media_duration, dv=\"Duration\", between=\"MediaType\")\n",
    "# Какие-то из групп статистически различаются"
   ]
  },
  {
   "cell_type": "code",
   "execution_count": 21,
   "metadata": {},
   "outputs": [
    {
     "data": {
      "text/html": [
       "<div>\n",
       "<style scoped>\n",
       "    .dataframe tbody tr th:only-of-type {\n",
       "        vertical-align: middle;\n",
       "    }\n",
       "\n",
       "    .dataframe tbody tr th {\n",
       "        vertical-align: top;\n",
       "    }\n",
       "\n",
       "    .dataframe thead th {\n",
       "        text-align: right;\n",
       "    }\n",
       "</style>\n",
       "<table border=\"1\" class=\"dataframe\">\n",
       "  <thead>\n",
       "    <tr style=\"text-align: right;\">\n",
       "      <th></th>\n",
       "      <th>A</th>\n",
       "      <th>B</th>\n",
       "      <th>mean(A)</th>\n",
       "      <th>mean(B)</th>\n",
       "      <th>diff</th>\n",
       "      <th>se</th>\n",
       "      <th>T</th>\n",
       "      <th>p-tukey</th>\n",
       "      <th>hedges</th>\n",
       "    </tr>\n",
       "  </thead>\n",
       "  <tbody>\n",
       "    <tr>\n",
       "      <th>0</th>\n",
       "      <td>Mobile</td>\n",
       "      <td>Radio</td>\n",
       "      <td>33245.545931</td>\n",
       "      <td>7720.213027</td>\n",
       "      <td>25525.332904</td>\n",
       "      <td>1031.518929</td>\n",
       "      <td>24.745385</td>\n",
       "      <td>8.685275e-13</td>\n",
       "      <td>1.088157</td>\n",
       "    </tr>\n",
       "    <tr>\n",
       "      <th>1</th>\n",
       "      <td>Mobile</td>\n",
       "      <td>TV</td>\n",
       "      <td>33245.545931</td>\n",
       "      <td>36779.613473</td>\n",
       "      <td>-3534.067543</td>\n",
       "      <td>938.426652</td>\n",
       "      <td>-3.765950</td>\n",
       "      <td>4.921693e-04</td>\n",
       "      <td>-0.107193</td>\n",
       "    </tr>\n",
       "    <tr>\n",
       "      <th>2</th>\n",
       "      <td>Radio</td>\n",
       "      <td>TV</td>\n",
       "      <td>7720.213027</td>\n",
       "      <td>36779.613473</td>\n",
       "      <td>-29059.400446</td>\n",
       "      <td>1062.691986</td>\n",
       "      <td>-27.345083</td>\n",
       "      <td>8.685275e-13</td>\n",
       "      <td>-0.966902</td>\n",
       "    </tr>\n",
       "  </tbody>\n",
       "</table>\n",
       "</div>"
      ],
      "text/plain": [
       "        A      B       mean(A)       mean(B)          diff           se  \\\n",
       "0  Mobile  Radio  33245.545931   7720.213027  25525.332904  1031.518929   \n",
       "1  Mobile     TV  33245.545931  36779.613473  -3534.067543   938.426652   \n",
       "2   Radio     TV   7720.213027  36779.613473 -29059.400446  1062.691986   \n",
       "\n",
       "           T       p-tukey    hedges  \n",
       "0  24.745385  8.685275e-13  1.088157  \n",
       "1  -3.765950  4.921693e-04 -0.107193  \n",
       "2 -27.345083  8.685275e-13 -0.966902  "
      ]
     },
     "execution_count": 21,
     "metadata": {},
     "output_type": "execute_result"
    }
   ],
   "source": [
    "pg.pairwise_tukey(data = df_media_duration, dv = 'Duration', between = 'MediaType')"
   ]
  },
  {
   "cell_type": "markdown",
   "metadata": {},
   "source": [
    "Есть статистическое различие между просмотром разных медиа"
   ]
  },
  {
   "cell_type": "code",
   "execution_count": null,
   "metadata": {},
   "outputs": [],
   "source": []
  },
  {
   "cell_type": "code",
   "execution_count": 22,
   "metadata": {},
   "outputs": [
    {
     "data": {
      "text/html": [
       "<div>\n",
       "<style scoped>\n",
       "    .dataframe tbody tr th:only-of-type {\n",
       "        vertical-align: middle;\n",
       "    }\n",
       "\n",
       "    .dataframe tbody tr th {\n",
       "        vertical-align: top;\n",
       "    }\n",
       "\n",
       "    .dataframe thead th {\n",
       "        text-align: right;\n",
       "    }\n",
       "</style>\n",
       "<table border=\"1\" class=\"dataframe\">\n",
       "  <thead>\n",
       "    <tr style=\"text-align: right;\">\n",
       "      <th></th>\n",
       "      <th>RespondentID</th>\n",
       "      <th>Sex</th>\n",
       "      <th>Duration</th>\n",
       "    </tr>\n",
       "  </thead>\n",
       "  <tbody>\n",
       "    <tr>\n",
       "      <th>0</th>\n",
       "      <td>resp1</td>\n",
       "      <td>Женщины</td>\n",
       "      <td>78747.0</td>\n",
       "    </tr>\n",
       "    <tr>\n",
       "      <th>1</th>\n",
       "      <td>resp10</td>\n",
       "      <td>Мужчины</td>\n",
       "      <td>186115.0</td>\n",
       "    </tr>\n",
       "    <tr>\n",
       "      <th>2</th>\n",
       "      <td>resp100</td>\n",
       "      <td>Мужчины</td>\n",
       "      <td>91125.0</td>\n",
       "    </tr>\n",
       "    <tr>\n",
       "      <th>3</th>\n",
       "      <td>resp1000</td>\n",
       "      <td>Женщины</td>\n",
       "      <td>42305.0</td>\n",
       "    </tr>\n",
       "    <tr>\n",
       "      <th>4</th>\n",
       "      <td>resp1001</td>\n",
       "      <td>Женщины</td>\n",
       "      <td>34711.0</td>\n",
       "    </tr>\n",
       "    <tr>\n",
       "      <th>...</th>\n",
       "      <td>...</td>\n",
       "      <td>...</td>\n",
       "      <td>...</td>\n",
       "    </tr>\n",
       "    <tr>\n",
       "      <th>2127</th>\n",
       "      <td>resp995</td>\n",
       "      <td>Мужчины</td>\n",
       "      <td>34073.0</td>\n",
       "    </tr>\n",
       "    <tr>\n",
       "      <th>2128</th>\n",
       "      <td>resp996</td>\n",
       "      <td>Женщины</td>\n",
       "      <td>99890.0</td>\n",
       "    </tr>\n",
       "    <tr>\n",
       "      <th>2129</th>\n",
       "      <td>resp997</td>\n",
       "      <td>Мужчины</td>\n",
       "      <td>40065.0</td>\n",
       "    </tr>\n",
       "    <tr>\n",
       "      <th>2130</th>\n",
       "      <td>resp998</td>\n",
       "      <td>Женщины</td>\n",
       "      <td>109030.0</td>\n",
       "    </tr>\n",
       "    <tr>\n",
       "      <th>2131</th>\n",
       "      <td>resp999</td>\n",
       "      <td>Мужчины</td>\n",
       "      <td>33753.0</td>\n",
       "    </tr>\n",
       "  </tbody>\n",
       "</table>\n",
       "<p>2132 rows × 3 columns</p>\n",
       "</div>"
      ],
      "text/plain": [
       "     RespondentID      Sex  Duration\n",
       "0           resp1  Женщины   78747.0\n",
       "1          resp10  Мужчины  186115.0\n",
       "2         resp100  Мужчины   91125.0\n",
       "3        resp1000  Женщины   42305.0\n",
       "4        resp1001  Женщины   34711.0\n",
       "...           ...      ...       ...\n",
       "2127      resp995  Мужчины   34073.0\n",
       "2128      resp996  Женщины   99890.0\n",
       "2129      resp997  Мужчины   40065.0\n",
       "2130      resp998  Женщины  109030.0\n",
       "2131      resp999  Мужчины   33753.0\n",
       "\n",
       "[2132 rows x 3 columns]"
      ]
     },
     "execution_count": 22,
     "metadata": {},
     "output_type": "execute_result"
    }
   ],
   "source": [
    "resp_sex_duration = prep_df.groupby(['RespondentID', 'Sex'], as_index = False).agg({'Duration': 'sum'})\n",
    "resp_sex_duration \n",
    "# Респондентов по полу и суммарный просмотр медиа в секундах"
   ]
  },
  {
   "cell_type": "code",
   "execution_count": 23,
   "metadata": {},
   "outputs": [
    {
     "data": {
      "text/html": [
       "<div>\n",
       "<style scoped>\n",
       "    .dataframe tbody tr th:only-of-type {\n",
       "        vertical-align: middle;\n",
       "    }\n",
       "\n",
       "    .dataframe tbody tr th {\n",
       "        vertical-align: top;\n",
       "    }\n",
       "\n",
       "    .dataframe thead th {\n",
       "        text-align: right;\n",
       "    }\n",
       "</style>\n",
       "<table border=\"1\" class=\"dataframe\">\n",
       "  <thead>\n",
       "    <tr style=\"text-align: right;\">\n",
       "      <th></th>\n",
       "      <th>Duration</th>\n",
       "    </tr>\n",
       "    <tr>\n",
       "      <th>Sex</th>\n",
       "      <th></th>\n",
       "    </tr>\n",
       "  </thead>\n",
       "  <tbody>\n",
       "    <tr>\n",
       "      <th>Женщины</th>\n",
       "      <td>74724291.0</td>\n",
       "    </tr>\n",
       "    <tr>\n",
       "      <th>Мужчины</th>\n",
       "      <td>71807359.0</td>\n",
       "    </tr>\n",
       "  </tbody>\n",
       "</table>\n",
       "</div>"
      ],
      "text/plain": [
       "           Duration\n",
       "Sex                \n",
       "Женщины  74724291.0\n",
       "Мужчины  71807359.0"
      ]
     },
     "execution_count": 23,
     "metadata": {},
     "output_type": "execute_result"
    }
   ],
   "source": [
    "resp_sex_duration.groupby('Sex').agg({'Duration': 'sum'})"
   ]
  },
  {
   "cell_type": "code",
   "execution_count": 24,
   "metadata": {},
   "outputs": [
    {
     "data": {
      "text/plain": [
       "TtestResult(statistic=-3.4122623255247717, pvalue=0.0006562986610943554, df=2130.0)"
      ]
     },
     "execution_count": 24,
     "metadata": {},
     "output_type": "execute_result"
    }
   ],
   "source": [
    "ttest_ind(resp_sex_duration[resp_sex_duration.Sex == 'Мужчины'].Duration, resp_sex_duration[resp_sex_duration.Sex == 'Женщины'].Duration)"
   ]
  },
  {
   "cell_type": "markdown",
   "metadata": {},
   "source": [
    "Разница между просмотром медиа мужчин и женщин статистически значима"
   ]
  },
  {
   "cell_type": "code",
   "execution_count": null,
   "metadata": {},
   "outputs": [],
   "source": []
  },
  {
   "cell_type": "code",
   "execution_count": 25,
   "metadata": {},
   "outputs": [
    {
     "data": {
      "text/html": [
       "<div>\n",
       "<style scoped>\n",
       "    .dataframe tbody tr th:only-of-type {\n",
       "        vertical-align: middle;\n",
       "    }\n",
       "\n",
       "    .dataframe tbody tr th {\n",
       "        vertical-align: top;\n",
       "    }\n",
       "\n",
       "    .dataframe thead th {\n",
       "        text-align: right;\n",
       "    }\n",
       "</style>\n",
       "<table border=\"1\" class=\"dataframe\">\n",
       "  <thead>\n",
       "    <tr style=\"text-align: right;\">\n",
       "      <th></th>\n",
       "      <th>RespondentID</th>\n",
       "      <th>AgeGroup</th>\n",
       "      <th>Duration</th>\n",
       "    </tr>\n",
       "  </thead>\n",
       "  <tbody>\n",
       "    <tr>\n",
       "      <th>0</th>\n",
       "      <td>resp1</td>\n",
       "      <td>55+</td>\n",
       "      <td>78747.0</td>\n",
       "    </tr>\n",
       "    <tr>\n",
       "      <th>1</th>\n",
       "      <td>resp10</td>\n",
       "      <td>55+</td>\n",
       "      <td>186115.0</td>\n",
       "    </tr>\n",
       "    <tr>\n",
       "      <th>2</th>\n",
       "      <td>resp100</td>\n",
       "      <td>35-44</td>\n",
       "      <td>91125.0</td>\n",
       "    </tr>\n",
       "    <tr>\n",
       "      <th>3</th>\n",
       "      <td>resp1000</td>\n",
       "      <td>45-54</td>\n",
       "      <td>42305.0</td>\n",
       "    </tr>\n",
       "    <tr>\n",
       "      <th>4</th>\n",
       "      <td>resp1001</td>\n",
       "      <td>45-54</td>\n",
       "      <td>34711.0</td>\n",
       "    </tr>\n",
       "    <tr>\n",
       "      <th>...</th>\n",
       "      <td>...</td>\n",
       "      <td>...</td>\n",
       "      <td>...</td>\n",
       "    </tr>\n",
       "    <tr>\n",
       "      <th>2129</th>\n",
       "      <td>resp995</td>\n",
       "      <td>35-44</td>\n",
       "      <td>34073.0</td>\n",
       "    </tr>\n",
       "    <tr>\n",
       "      <th>2130</th>\n",
       "      <td>resp996</td>\n",
       "      <td>35-44</td>\n",
       "      <td>99890.0</td>\n",
       "    </tr>\n",
       "    <tr>\n",
       "      <th>2131</th>\n",
       "      <td>resp997</td>\n",
       "      <td>45-54</td>\n",
       "      <td>40065.0</td>\n",
       "    </tr>\n",
       "    <tr>\n",
       "      <th>2132</th>\n",
       "      <td>resp998</td>\n",
       "      <td>55+</td>\n",
       "      <td>109030.0</td>\n",
       "    </tr>\n",
       "    <tr>\n",
       "      <th>2133</th>\n",
       "      <td>resp999</td>\n",
       "      <td>55+</td>\n",
       "      <td>33753.0</td>\n",
       "    </tr>\n",
       "  </tbody>\n",
       "</table>\n",
       "<p>2134 rows × 3 columns</p>\n",
       "</div>"
      ],
      "text/plain": [
       "     RespondentID AgeGroup  Duration\n",
       "0           resp1      55+   78747.0\n",
       "1          resp10      55+  186115.0\n",
       "2         resp100    35-44   91125.0\n",
       "3        resp1000    45-54   42305.0\n",
       "4        resp1001    45-54   34711.0\n",
       "...           ...      ...       ...\n",
       "2129      resp995    35-44   34073.0\n",
       "2130      resp996    35-44   99890.0\n",
       "2131      resp997    45-54   40065.0\n",
       "2132      resp998      55+  109030.0\n",
       "2133      resp999      55+   33753.0\n",
       "\n",
       "[2134 rows x 3 columns]"
      ]
     },
     "execution_count": 25,
     "metadata": {},
     "output_type": "execute_result"
    }
   ],
   "source": [
    "resp_agegroup_duration = prep_df.groupby(['RespondentID', 'AgeGroup'], as_index = False).agg({'Duration': 'sum'})\n",
    "resp_agegroup_duration\n",
    "# Респондентов по возрастным группам и суммарный просмотр медиа в секундах"
   ]
  },
  {
   "cell_type": "code",
   "execution_count": 26,
   "metadata": {},
   "outputs": [
    {
     "data": {
      "text/plain": [
       "LeveneResult(statistic=38858.25209426461, pvalue=0.0)"
      ]
     },
     "execution_count": 26,
     "metadata": {},
     "output_type": "execute_result"
    }
   ],
   "source": [
    "'''Проверям равенстов дисперсий'''\n",
    "levene( resp_agegroup_duration[resp_agegroup_duration.AgeGroup == '12-24'].Duration, \\\n",
    "        resp_agegroup_duration[resp_agegroup_duration.AgeGroup == '25-34'].Duration, \\\n",
    "        resp_agegroup_duration[resp_agegroup_duration.AgeGroup == '35-44'].Duration, \\\n",
    "        resp_agegroup_duration[resp_agegroup_duration.AgeGroup == '45-54'].Duration, \\\n",
    "        df[df.AgeGroup == '55+'].Duration)\n",
    "# Дисперсии не равны, следовательно применим дисперсионный анализ Уэлча"
   ]
  },
  {
   "cell_type": "code",
   "execution_count": 27,
   "metadata": {},
   "outputs": [
    {
     "data": {
      "text/html": [
       "<div>\n",
       "<style scoped>\n",
       "    .dataframe tbody tr th:only-of-type {\n",
       "        vertical-align: middle;\n",
       "    }\n",
       "\n",
       "    .dataframe tbody tr th {\n",
       "        vertical-align: top;\n",
       "    }\n",
       "\n",
       "    .dataframe thead th {\n",
       "        text-align: right;\n",
       "    }\n",
       "</style>\n",
       "<table border=\"1\" class=\"dataframe\">\n",
       "  <thead>\n",
       "    <tr style=\"text-align: right;\">\n",
       "      <th></th>\n",
       "      <th>Source</th>\n",
       "      <th>ddof1</th>\n",
       "      <th>ddof2</th>\n",
       "      <th>F</th>\n",
       "      <th>p-unc</th>\n",
       "      <th>np2</th>\n",
       "    </tr>\n",
       "  </thead>\n",
       "  <tbody>\n",
       "    <tr>\n",
       "      <th>0</th>\n",
       "      <td>AgeGroup</td>\n",
       "      <td>4</td>\n",
       "      <td>513.366437</td>\n",
       "      <td>19.666208</td>\n",
       "      <td>4.490396e-15</td>\n",
       "      <td>0.037801</td>\n",
       "    </tr>\n",
       "  </tbody>\n",
       "</table>\n",
       "</div>"
      ],
      "text/plain": [
       "     Source  ddof1       ddof2          F         p-unc       np2\n",
       "0  AgeGroup      4  513.366437  19.666208  4.490396e-15  0.037801"
      ]
     },
     "execution_count": 27,
     "metadata": {},
     "output_type": "execute_result"
    }
   ],
   "source": [
    "'С помощью дисперсионного анализа проверяем статистическое различие между суммарным просмотром медиа по возрастным группам'\n",
    "pg.welch_anova(data=resp_agegroup_duration, dv=\"Duration\", between=\"AgeGroup\")\n",
    "# Какие-то из групп статистически различаются"
   ]
  },
  {
   "cell_type": "code",
   "execution_count": 28,
   "metadata": {},
   "outputs": [
    {
     "data": {
      "text/html": [
       "<div>\n",
       "<style scoped>\n",
       "    .dataframe tbody tr th:only-of-type {\n",
       "        vertical-align: middle;\n",
       "    }\n",
       "\n",
       "    .dataframe tbody tr th {\n",
       "        vertical-align: top;\n",
       "    }\n",
       "\n",
       "    .dataframe thead th {\n",
       "        text-align: right;\n",
       "    }\n",
       "</style>\n",
       "<table border=\"1\" class=\"dataframe\">\n",
       "  <thead>\n",
       "    <tr style=\"text-align: right;\">\n",
       "      <th></th>\n",
       "      <th>A</th>\n",
       "      <th>B</th>\n",
       "      <th>mean(A)</th>\n",
       "      <th>mean(B)</th>\n",
       "      <th>diff</th>\n",
       "      <th>se</th>\n",
       "      <th>T</th>\n",
       "      <th>p-tukey</th>\n",
       "      <th>hedges</th>\n",
       "    </tr>\n",
       "  </thead>\n",
       "  <tbody>\n",
       "    <tr>\n",
       "      <th>0</th>\n",
       "      <td>12-24</td>\n",
       "      <td>25-34</td>\n",
       "      <td>59403.545455</td>\n",
       "      <td>57322.257576</td>\n",
       "      <td>2081.287879</td>\n",
       "      <td>5629.208493</td>\n",
       "      <td>0.369730</td>\n",
       "      <td>9.960234e-01</td>\n",
       "      <td>0.053195</td>\n",
       "    </tr>\n",
       "    <tr>\n",
       "      <th>1</th>\n",
       "      <td>12-24</td>\n",
       "      <td>35-44</td>\n",
       "      <td>59403.545455</td>\n",
       "      <td>62505.543036</td>\n",
       "      <td>-3101.997581</td>\n",
       "      <td>4939.459814</td>\n",
       "      <td>-0.628003</td>\n",
       "      <td>9.705878e-01</td>\n",
       "      <td>-0.071266</td>\n",
       "    </tr>\n",
       "    <tr>\n",
       "      <th>2</th>\n",
       "      <td>12-24</td>\n",
       "      <td>45-54</td>\n",
       "      <td>59403.545455</td>\n",
       "      <td>65102.232653</td>\n",
       "      <td>-5698.687199</td>\n",
       "      <td>5039.196713</td>\n",
       "      <td>-1.130872</td>\n",
       "      <td>7.901866e-01</td>\n",
       "      <td>-0.131042</td>\n",
       "    </tr>\n",
       "    <tr>\n",
       "      <th>3</th>\n",
       "      <td>12-24</td>\n",
       "      <td>55+</td>\n",
       "      <td>59403.545455</td>\n",
       "      <td>81157.847458</td>\n",
       "      <td>-21754.302003</td>\n",
       "      <td>4907.065366</td>\n",
       "      <td>-4.433261</td>\n",
       "      <td>9.527482e-05</td>\n",
       "      <td>-0.440550</td>\n",
       "    </tr>\n",
       "    <tr>\n",
       "      <th>4</th>\n",
       "      <td>25-34</td>\n",
       "      <td>35-44</td>\n",
       "      <td>57322.257576</td>\n",
       "      <td>62505.543036</td>\n",
       "      <td>-5183.285460</td>\n",
       "      <td>3719.623705</td>\n",
       "      <td>-1.393497</td>\n",
       "      <td>6.319272e-01</td>\n",
       "      <td>-0.120677</td>\n",
       "    </tr>\n",
       "    <tr>\n",
       "      <th>5</th>\n",
       "      <td>25-34</td>\n",
       "      <td>45-54</td>\n",
       "      <td>57322.257576</td>\n",
       "      <td>65102.232653</td>\n",
       "      <td>-7779.975077</td>\n",
       "      <td>3851.083063</td>\n",
       "      <td>-2.020204</td>\n",
       "      <td>2.565371e-01</td>\n",
       "      <td>-0.181812</td>\n",
       "    </tr>\n",
       "    <tr>\n",
       "      <th>6</th>\n",
       "      <td>25-34</td>\n",
       "      <td>55+</td>\n",
       "      <td>57322.257576</td>\n",
       "      <td>81157.847458</td>\n",
       "      <td>-23835.589882</td>\n",
       "      <td>3676.496669</td>\n",
       "      <td>-6.483234</td>\n",
       "      <td>1.112174e-09</td>\n",
       "      <td>-0.493500</td>\n",
       "    </tr>\n",
       "    <tr>\n",
       "      <th>7</th>\n",
       "      <td>35-44</td>\n",
       "      <td>45-54</td>\n",
       "      <td>62505.543036</td>\n",
       "      <td>65102.232653</td>\n",
       "      <td>-2596.689617</td>\n",
       "      <td>2746.109205</td>\n",
       "      <td>-0.945589</td>\n",
       "      <td>8.789832e-01</td>\n",
       "      <td>-0.058791</td>\n",
       "    </tr>\n",
       "    <tr>\n",
       "      <th>8</th>\n",
       "      <td>35-44</td>\n",
       "      <td>55+</td>\n",
       "      <td>62505.543036</td>\n",
       "      <td>81157.847458</td>\n",
       "      <td>-18652.304422</td>\n",
       "      <td>2495.376276</td>\n",
       "      <td>-7.474746</td>\n",
       "      <td>1.339595e-12</td>\n",
       "      <td>-0.391625</td>\n",
       "    </tr>\n",
       "    <tr>\n",
       "      <th>9</th>\n",
       "      <td>45-54</td>\n",
       "      <td>55+</td>\n",
       "      <td>65102.232653</td>\n",
       "      <td>81157.847458</td>\n",
       "      <td>-16055.614805</td>\n",
       "      <td>2687.404513</td>\n",
       "      <td>-5.974395</td>\n",
       "      <td>2.696041e-08</td>\n",
       "      <td>-0.333813</td>\n",
       "    </tr>\n",
       "  </tbody>\n",
       "</table>\n",
       "</div>"
      ],
      "text/plain": [
       "       A      B       mean(A)       mean(B)          diff           se  \\\n",
       "0  12-24  25-34  59403.545455  57322.257576   2081.287879  5629.208493   \n",
       "1  12-24  35-44  59403.545455  62505.543036  -3101.997581  4939.459814   \n",
       "2  12-24  45-54  59403.545455  65102.232653  -5698.687199  5039.196713   \n",
       "3  12-24    55+  59403.545455  81157.847458 -21754.302003  4907.065366   \n",
       "4  25-34  35-44  57322.257576  62505.543036  -5183.285460  3719.623705   \n",
       "5  25-34  45-54  57322.257576  65102.232653  -7779.975077  3851.083063   \n",
       "6  25-34    55+  57322.257576  81157.847458 -23835.589882  3676.496669   \n",
       "7  35-44  45-54  62505.543036  65102.232653  -2596.689617  2746.109205   \n",
       "8  35-44    55+  62505.543036  81157.847458 -18652.304422  2495.376276   \n",
       "9  45-54    55+  65102.232653  81157.847458 -16055.614805  2687.404513   \n",
       "\n",
       "          T       p-tukey    hedges  \n",
       "0  0.369730  9.960234e-01  0.053195  \n",
       "1 -0.628003  9.705878e-01 -0.071266  \n",
       "2 -1.130872  7.901866e-01 -0.131042  \n",
       "3 -4.433261  9.527482e-05 -0.440550  \n",
       "4 -1.393497  6.319272e-01 -0.120677  \n",
       "5 -2.020204  2.565371e-01 -0.181812  \n",
       "6 -6.483234  1.112174e-09 -0.493500  \n",
       "7 -0.945589  8.789832e-01 -0.058791  \n",
       "8 -7.474746  1.339595e-12 -0.391625  \n",
       "9 -5.974395  2.696041e-08 -0.333813  "
      ]
     },
     "execution_count": 28,
     "metadata": {},
     "output_type": "execute_result"
    }
   ],
   "source": [
    "pg.pairwise_tukey(data = resp_agegroup_duration, dv = 'Duration', between = 'AgeGroup')"
   ]
  },
  {
   "cell_type": "markdown",
   "metadata": {},
   "source": [
    "Статистически значимо отличается только возрастная группа 55+"
   ]
  },
  {
   "cell_type": "code",
   "execution_count": null,
   "metadata": {},
   "outputs": [],
   "source": []
  },
  {
   "cell_type": "code",
   "execution_count": 29,
   "metadata": {},
   "outputs": [
    {
     "data": {
      "text/html": [
       "<div>\n",
       "<style scoped>\n",
       "    .dataframe tbody tr th:only-of-type {\n",
       "        vertical-align: middle;\n",
       "    }\n",
       "\n",
       "    .dataframe tbody tr th {\n",
       "        vertical-align: top;\n",
       "    }\n",
       "\n",
       "    .dataframe thead th {\n",
       "        text-align: right;\n",
       "    }\n",
       "</style>\n",
       "<table border=\"1\" class=\"dataframe\">\n",
       "  <thead>\n",
       "    <tr style=\"text-align: right;\">\n",
       "      <th></th>\n",
       "      <th>RespondentID</th>\n",
       "      <th>ResearchDate</th>\n",
       "      <th>Duration</th>\n",
       "    </tr>\n",
       "  </thead>\n",
       "  <tbody>\n",
       "    <tr>\n",
       "      <th>0</th>\n",
       "      <td>resp1</td>\n",
       "      <td>2023-02-09</td>\n",
       "      <td>39376.0</td>\n",
       "    </tr>\n",
       "    <tr>\n",
       "      <th>1</th>\n",
       "      <td>resp1</td>\n",
       "      <td>2023-02-11</td>\n",
       "      <td>39371.0</td>\n",
       "    </tr>\n",
       "    <tr>\n",
       "      <th>2</th>\n",
       "      <td>resp10</td>\n",
       "      <td>2023-02-09</td>\n",
       "      <td>60984.0</td>\n",
       "    </tr>\n",
       "    <tr>\n",
       "      <th>3</th>\n",
       "      <td>resp10</td>\n",
       "      <td>2023-02-10</td>\n",
       "      <td>54802.0</td>\n",
       "    </tr>\n",
       "    <tr>\n",
       "      <th>4</th>\n",
       "      <td>resp10</td>\n",
       "      <td>2023-02-11</td>\n",
       "      <td>70329.0</td>\n",
       "    </tr>\n",
       "    <tr>\n",
       "      <th>...</th>\n",
       "      <td>...</td>\n",
       "      <td>...</td>\n",
       "      <td>...</td>\n",
       "    </tr>\n",
       "    <tr>\n",
       "      <th>5378</th>\n",
       "      <td>resp998</td>\n",
       "      <td>2023-02-09</td>\n",
       "      <td>24480.0</td>\n",
       "    </tr>\n",
       "    <tr>\n",
       "      <th>5379</th>\n",
       "      <td>resp998</td>\n",
       "      <td>2023-02-10</td>\n",
       "      <td>36066.0</td>\n",
       "    </tr>\n",
       "    <tr>\n",
       "      <th>5380</th>\n",
       "      <td>resp998</td>\n",
       "      <td>2023-02-11</td>\n",
       "      <td>48484.0</td>\n",
       "    </tr>\n",
       "    <tr>\n",
       "      <th>5381</th>\n",
       "      <td>resp999</td>\n",
       "      <td>2023-02-09</td>\n",
       "      <td>15867.0</td>\n",
       "    </tr>\n",
       "    <tr>\n",
       "      <th>5382</th>\n",
       "      <td>resp999</td>\n",
       "      <td>2023-02-10</td>\n",
       "      <td>17886.0</td>\n",
       "    </tr>\n",
       "  </tbody>\n",
       "</table>\n",
       "<p>5383 rows × 3 columns</p>\n",
       "</div>"
      ],
      "text/plain": [
       "     RespondentID ResearchDate  Duration\n",
       "0           resp1   2023-02-09   39376.0\n",
       "1           resp1   2023-02-11   39371.0\n",
       "2          resp10   2023-02-09   60984.0\n",
       "3          resp10   2023-02-10   54802.0\n",
       "4          resp10   2023-02-11   70329.0\n",
       "...           ...          ...       ...\n",
       "5378      resp998   2023-02-09   24480.0\n",
       "5379      resp998   2023-02-10   36066.0\n",
       "5380      resp998   2023-02-11   48484.0\n",
       "5381      resp999   2023-02-09   15867.0\n",
       "5382      resp999   2023-02-10   17886.0\n",
       "\n",
       "[5383 rows x 3 columns]"
      ]
     },
     "execution_count": 29,
     "metadata": {},
     "output_type": "execute_result"
    }
   ],
   "source": [
    "df_date_duration = prep_df.groupby(['RespondentID', 'ResearchDate'], as_index = False).agg({'Duration': 'sum'})\n",
    "df_date_duration"
   ]
  },
  {
   "cell_type": "code",
   "execution_count": 30,
   "metadata": {},
   "outputs": [
    {
     "data": {
      "text/plain": [
       "LeveneResult(statistic=2.736181347644116, pvalue=0.0649075900096866)"
      ]
     },
     "execution_count": 30,
     "metadata": {},
     "output_type": "execute_result"
    }
   ],
   "source": [
    "'''Проверям равенстов дисперсий'''\n",
    "levene( df_date_duration[df_date_duration.ResearchDate == '2023-02-09'].Duration, \\\n",
    "        df_date_duration[df_date_duration.ResearchDate == '2023-02-10'].Duration, \\\n",
    "        df_date_duration[df_date_duration.ResearchDate == '2023-02-11'].Duration)\n",
    "# Дисперсии равны"
   ]
  },
  {
   "cell_type": "code",
   "execution_count": 31,
   "metadata": {},
   "outputs": [
    {
     "data": {
      "text/html": [
       "<div>\n",
       "<style scoped>\n",
       "    .dataframe tbody tr th:only-of-type {\n",
       "        vertical-align: middle;\n",
       "    }\n",
       "\n",
       "    .dataframe tbody tr th {\n",
       "        vertical-align: top;\n",
       "    }\n",
       "\n",
       "    .dataframe thead th {\n",
       "        text-align: right;\n",
       "    }\n",
       "</style>\n",
       "<table border=\"1\" class=\"dataframe\">\n",
       "  <thead>\n",
       "    <tr style=\"text-align: right;\">\n",
       "      <th></th>\n",
       "      <th>Source</th>\n",
       "      <th>ddof1</th>\n",
       "      <th>ddof2</th>\n",
       "      <th>F</th>\n",
       "      <th>p-unc</th>\n",
       "      <th>np2</th>\n",
       "    </tr>\n",
       "  </thead>\n",
       "  <tbody>\n",
       "    <tr>\n",
       "      <th>0</th>\n",
       "      <td>ResearchDate</td>\n",
       "      <td>2</td>\n",
       "      <td>5380</td>\n",
       "      <td>2.919815</td>\n",
       "      <td>0.054029</td>\n",
       "      <td>0.001084</td>\n",
       "    </tr>\n",
       "  </tbody>\n",
       "</table>\n",
       "</div>"
      ],
      "text/plain": [
       "         Source  ddof1  ddof2         F     p-unc       np2\n",
       "0  ResearchDate      2   5380  2.919815  0.054029  0.001084"
      ]
     },
     "execution_count": 31,
     "metadata": {},
     "output_type": "execute_result"
    }
   ],
   "source": [
    "'С помощью дисперсионного анализа проверяем статистическое различие между суммарным просмотром медиа по дням'\n",
    "pg.anova(data=df_date_duration, dv=\"Duration\", between=\"ResearchDate\")\n",
    "# Статистически значимых различий не обнаружено"
   ]
  },
  {
   "cell_type": "code",
   "execution_count": 32,
   "metadata": {},
   "outputs": [
    {
     "data": {
      "text/html": [
       "<div>\n",
       "<style scoped>\n",
       "    .dataframe tbody tr th:only-of-type {\n",
       "        vertical-align: middle;\n",
       "    }\n",
       "\n",
       "    .dataframe tbody tr th {\n",
       "        vertical-align: top;\n",
       "    }\n",
       "\n",
       "    .dataframe thead th {\n",
       "        text-align: right;\n",
       "    }\n",
       "</style>\n",
       "<table border=\"1\" class=\"dataframe\">\n",
       "  <thead>\n",
       "    <tr style=\"text-align: right;\">\n",
       "      <th></th>\n",
       "      <th>A</th>\n",
       "      <th>B</th>\n",
       "      <th>mean(A)</th>\n",
       "      <th>mean(B)</th>\n",
       "      <th>diff</th>\n",
       "      <th>se</th>\n",
       "      <th>T</th>\n",
       "      <th>p-tukey</th>\n",
       "      <th>hedges</th>\n",
       "    </tr>\n",
       "  </thead>\n",
       "  <tbody>\n",
       "    <tr>\n",
       "      <th>0</th>\n",
       "      <td>2023-02-09</td>\n",
       "      <td>2023-02-10</td>\n",
       "      <td>26709.159692</td>\n",
       "      <td>26907.553897</td>\n",
       "      <td>-198.394206</td>\n",
       "      <td>603.763103</td>\n",
       "      <td>-0.328596</td>\n",
       "      <td>0.942221</td>\n",
       "      <td>-0.011073</td>\n",
       "    </tr>\n",
       "    <tr>\n",
       "      <th>1</th>\n",
       "      <td>2023-02-09</td>\n",
       "      <td>2023-02-11</td>\n",
       "      <td>26709.159692</td>\n",
       "      <td>28072.839022</td>\n",
       "      <td>-1363.679330</td>\n",
       "      <td>608.134561</td>\n",
       "      <td>-2.242397</td>\n",
       "      <td>0.064356</td>\n",
       "      <td>-0.074568</td>\n",
       "    </tr>\n",
       "    <tr>\n",
       "      <th>2</th>\n",
       "      <td>2023-02-10</td>\n",
       "      <td>2023-02-11</td>\n",
       "      <td>26907.553897</td>\n",
       "      <td>28072.839022</td>\n",
       "      <td>-1165.285124</td>\n",
       "      <td>608.713039</td>\n",
       "      <td>-1.914342</td>\n",
       "      <td>0.134688</td>\n",
       "      <td>-0.063556</td>\n",
       "    </tr>\n",
       "  </tbody>\n",
       "</table>\n",
       "</div>"
      ],
      "text/plain": [
       "           A          B       mean(A)       mean(B)         diff          se  \\\n",
       "0 2023-02-09 2023-02-10  26709.159692  26907.553897  -198.394206  603.763103   \n",
       "1 2023-02-09 2023-02-11  26709.159692  28072.839022 -1363.679330  608.134561   \n",
       "2 2023-02-10 2023-02-11  26907.553897  28072.839022 -1165.285124  608.713039   \n",
       "\n",
       "          T   p-tukey    hedges  \n",
       "0 -0.328596  0.942221 -0.011073  \n",
       "1 -2.242397  0.064356 -0.074568  \n",
       "2 -1.914342  0.134688 -0.063556  "
      ]
     },
     "execution_count": 32,
     "metadata": {},
     "output_type": "execute_result"
    }
   ],
   "source": [
    "pg.pairwise_tukey(data = df_date_duration, dv = 'Duration', between = 'ResearchDate')"
   ]
  },
  {
   "cell_type": "markdown",
   "metadata": {},
   "source": [
    "Статистически значимых различий между рассматриываемыми датами нет"
   ]
  },
  {
   "cell_type": "code",
   "execution_count": null,
   "metadata": {},
   "outputs": [],
   "source": []
  },
  {
   "cell_type": "code",
   "execution_count": 33,
   "metadata": {},
   "outputs": [
    {
     "name": "stderr",
     "output_type": "stream",
     "text": [
      "C:\\Users\\Admin\\AppData\\Local\\Temp\\ipykernel_6416\\2963709008.py:4: SettingWithCopyWarning: \n",
      "A value is trying to be set on a copy of a slice from a DataFrame.\n",
      "Try using .loc[row_indexer,col_indexer] = value instead\n",
      "\n",
      "See the caveats in the documentation: https://pandas.pydata.org/pandas-docs/stable/user_guide/indexing.html#returning-a-view-versus-a-copy\n",
      "  df['time_of_date'] = pd.cut(df['Start'].dt.hour, bins=bins, labels=labels, include_lowest=True, ordered=False)\n"
     ]
    }
   ],
   "source": [
    "'''Разобьём время просмотра медиа на периоды и проанализируем в какой период дня респонденты пользуются медиа чаще'''\n",
    "bins = [0,5,11,16,22,24]\n",
    "labels = ['Ночь', 'Утро','День','Вечер','Ночь']\n",
    "df['time_of_date'] = pd.cut(df['Start'].dt.hour, bins=bins, labels=labels, include_lowest=True, ordered=False)"
   ]
  },
  {
   "cell_type": "code",
   "execution_count": 34,
   "metadata": {},
   "outputs": [
    {
     "name": "stderr",
     "output_type": "stream",
     "text": [
      "C:\\Users\\Admin\\AppData\\Local\\Temp\\ipykernel_6416\\2851412553.py:1: FutureWarning: The default of observed=False is deprecated and will be changed to True in a future version of pandas. Pass observed=False to retain current behavior or observed=True to adopt the future default and silence this warning.\n",
      "  df_time_of_date_duration = df.groupby('time_of_date').agg({'Duration': 'sum'})\n"
     ]
    },
    {
     "data": {
      "text/html": [
       "<div>\n",
       "<style scoped>\n",
       "    .dataframe tbody tr th:only-of-type {\n",
       "        vertical-align: middle;\n",
       "    }\n",
       "\n",
       "    .dataframe tbody tr th {\n",
       "        vertical-align: top;\n",
       "    }\n",
       "\n",
       "    .dataframe thead th {\n",
       "        text-align: right;\n",
       "    }\n",
       "</style>\n",
       "<table border=\"1\" class=\"dataframe\">\n",
       "  <thead>\n",
       "    <tr style=\"text-align: right;\">\n",
       "      <th></th>\n",
       "      <th>Duration</th>\n",
       "    </tr>\n",
       "    <tr>\n",
       "      <th>time_of_date</th>\n",
       "      <th></th>\n",
       "    </tr>\n",
       "  </thead>\n",
       "  <tbody>\n",
       "    <tr>\n",
       "      <th>Вечер</th>\n",
       "      <td>57804769.0</td>\n",
       "    </tr>\n",
       "    <tr>\n",
       "      <th>День</th>\n",
       "      <td>38641024.0</td>\n",
       "    </tr>\n",
       "    <tr>\n",
       "      <th>Ночь</th>\n",
       "      <td>18894191.0</td>\n",
       "    </tr>\n",
       "    <tr>\n",
       "      <th>Утро</th>\n",
       "      <td>31191666.0</td>\n",
       "    </tr>\n",
       "  </tbody>\n",
       "</table>\n",
       "</div>"
      ],
      "text/plain": [
       "                Duration\n",
       "time_of_date            \n",
       "Вечер         57804769.0\n",
       "День          38641024.0\n",
       "Ночь          18894191.0\n",
       "Утро          31191666.0"
      ]
     },
     "execution_count": 34,
     "metadata": {},
     "output_type": "execute_result"
    }
   ],
   "source": [
    "df_time_of_date_duration = df.groupby('time_of_date').agg({'Duration': 'sum'})\n",
    "df_time_of_date_duration"
   ]
  },
  {
   "cell_type": "code",
   "execution_count": 35,
   "metadata": {},
   "outputs": [
    {
     "data": {
      "text/plain": [
       "LeveneResult(statistic=285.4245759140229, pvalue=3.889623863817285e-185)"
      ]
     },
     "execution_count": 35,
     "metadata": {},
     "output_type": "execute_result"
    }
   ],
   "source": [
    "'''Проверям равенстов дисперсий'''\n",
    "levene( df[df.time_of_date == 'Вечер'].Duration, \\\n",
    "        df[df.time_of_date == 'День'].Duration,  \\\n",
    "        df[df.time_of_date == 'Ночь'].Duration, df[df.time_of_date == 'Утро'].Duration)\n",
    "# Дисперсии не равны, следовательно применим дисперсионный анализ Уэлча"
   ]
  },
  {
   "cell_type": "code",
   "execution_count": 36,
   "metadata": {},
   "outputs": [
    {
     "data": {
      "text/html": [
       "<div>\n",
       "<style scoped>\n",
       "    .dataframe tbody tr th:only-of-type {\n",
       "        vertical-align: middle;\n",
       "    }\n",
       "\n",
       "    .dataframe tbody tr th {\n",
       "        vertical-align: top;\n",
       "    }\n",
       "\n",
       "    .dataframe thead th {\n",
       "        text-align: right;\n",
       "    }\n",
       "</style>\n",
       "<table border=\"1\" class=\"dataframe\">\n",
       "  <thead>\n",
       "    <tr style=\"text-align: right;\">\n",
       "      <th></th>\n",
       "      <th>Source</th>\n",
       "      <th>ddof1</th>\n",
       "      <th>ddof2</th>\n",
       "      <th>F</th>\n",
       "      <th>p-unc</th>\n",
       "      <th>np2</th>\n",
       "    </tr>\n",
       "  </thead>\n",
       "  <tbody>\n",
       "    <tr>\n",
       "      <th>0</th>\n",
       "      <td>time_of_date</td>\n",
       "      <td>3</td>\n",
       "      <td>180581.249898</td>\n",
       "      <td>250.980766</td>\n",
       "      <td>1.515537e-162</td>\n",
       "      <td>0.001774</td>\n",
       "    </tr>\n",
       "  </tbody>\n",
       "</table>\n",
       "</div>"
      ],
      "text/plain": [
       "         Source  ddof1          ddof2           F          p-unc       np2\n",
       "0  time_of_date      3  180581.249898  250.980766  1.515537e-162  0.001774"
      ]
     },
     "execution_count": 36,
     "metadata": {},
     "output_type": "execute_result"
    }
   ],
   "source": [
    "pg.welch_anova(data=df, dv=\"Duration\", between=\"time_of_date\")\n",
    "# Какие-то из групп статистически различаются"
   ]
  },
  {
   "cell_type": "markdown",
   "metadata": {},
   "source": [
    "Есть статистическое различие между суммарным просмотром в разные периоды дня"
   ]
  },
  {
   "cell_type": "code",
   "execution_count": null,
   "metadata": {},
   "outputs": [],
   "source": []
  },
  {
   "cell_type": "code",
   "execution_count": 37,
   "metadata": {},
   "outputs": [
    {
     "data": {
      "text/html": [
       "<div>\n",
       "<style scoped>\n",
       "    .dataframe tbody tr th:only-of-type {\n",
       "        vertical-align: middle;\n",
       "    }\n",
       "\n",
       "    .dataframe tbody tr th {\n",
       "        vertical-align: top;\n",
       "    }\n",
       "\n",
       "    .dataframe thead th {\n",
       "        text-align: right;\n",
       "    }\n",
       "</style>\n",
       "<table border=\"1\" class=\"dataframe\">\n",
       "  <thead>\n",
       "    <tr style=\"text-align: right;\">\n",
       "      <th></th>\n",
       "      <th>Source</th>\n",
       "      <th>SS</th>\n",
       "      <th>DF</th>\n",
       "      <th>MS</th>\n",
       "      <th>F</th>\n",
       "      <th>p-unc</th>\n",
       "      <th>np2</th>\n",
       "    </tr>\n",
       "  </thead>\n",
       "  <tbody>\n",
       "    <tr>\n",
       "      <th>0</th>\n",
       "      <td>Sex</td>\n",
       "      <td>6.453246e+09</td>\n",
       "      <td>1.0</td>\n",
       "      <td>6.453246e+09</td>\n",
       "      <td>47.111539</td>\n",
       "      <td>7.051057e-12</td>\n",
       "      <td>0.004083</td>\n",
       "    </tr>\n",
       "    <tr>\n",
       "      <th>1</th>\n",
       "      <td>ResearchDate</td>\n",
       "      <td>6.344275e+08</td>\n",
       "      <td>2.0</td>\n",
       "      <td>3.172138e+08</td>\n",
       "      <td>2.315800</td>\n",
       "      <td>9.873322e-02</td>\n",
       "      <td>0.000403</td>\n",
       "    </tr>\n",
       "    <tr>\n",
       "      <th>2</th>\n",
       "      <td>MediaType</td>\n",
       "      <td>2.045159e+11</td>\n",
       "      <td>2.0</td>\n",
       "      <td>1.022579e+11</td>\n",
       "      <td>746.528078</td>\n",
       "      <td>1.530938e-305</td>\n",
       "      <td>0.114983</td>\n",
       "    </tr>\n",
       "    <tr>\n",
       "      <th>3</th>\n",
       "      <td>AgeGroup</td>\n",
       "      <td>1.612193e+10</td>\n",
       "      <td>4.0</td>\n",
       "      <td>4.030483e+09</td>\n",
       "      <td>29.424301</td>\n",
       "      <td>2.213448e-24</td>\n",
       "      <td>0.010138</td>\n",
       "    </tr>\n",
       "    <tr>\n",
       "      <th>4</th>\n",
       "      <td>Sex * ResearchDate</td>\n",
       "      <td>8.605177e+07</td>\n",
       "      <td>2.0</td>\n",
       "      <td>4.302589e+07</td>\n",
       "      <td>0.314108</td>\n",
       "      <td>7.304465e-01</td>\n",
       "      <td>0.000055</td>\n",
       "    </tr>\n",
       "    <tr>\n",
       "      <th>5</th>\n",
       "      <td>Sex * MediaType</td>\n",
       "      <td>3.367468e+09</td>\n",
       "      <td>2.0</td>\n",
       "      <td>1.683734e+09</td>\n",
       "      <td>12.292000</td>\n",
       "      <td>4.648940e-06</td>\n",
       "      <td>0.002135</td>\n",
       "    </tr>\n",
       "    <tr>\n",
       "      <th>6</th>\n",
       "      <td>ResearchDate * MediaType</td>\n",
       "      <td>5.595588e+09</td>\n",
       "      <td>4.0</td>\n",
       "      <td>1.398897e+09</td>\n",
       "      <td>10.212565</td>\n",
       "      <td>2.983057e-08</td>\n",
       "      <td>0.003542</td>\n",
       "    </tr>\n",
       "    <tr>\n",
       "      <th>7</th>\n",
       "      <td>Sex * AgeGroup</td>\n",
       "      <td>9.575548e+08</td>\n",
       "      <td>4.0</td>\n",
       "      <td>2.393887e+08</td>\n",
       "      <td>1.747643</td>\n",
       "      <td>1.364678e-01</td>\n",
       "      <td>0.000608</td>\n",
       "    </tr>\n",
       "    <tr>\n",
       "      <th>8</th>\n",
       "      <td>ResearchDate * AgeGroup</td>\n",
       "      <td>5.741438e+08</td>\n",
       "      <td>8.0</td>\n",
       "      <td>7.176798e+07</td>\n",
       "      <td>0.523938</td>\n",
       "      <td>8.394140e-01</td>\n",
       "      <td>0.000365</td>\n",
       "    </tr>\n",
       "    <tr>\n",
       "      <th>9</th>\n",
       "      <td>MediaType * AgeGroup</td>\n",
       "      <td>1.099082e+11</td>\n",
       "      <td>8.0</td>\n",
       "      <td>1.373853e+10</td>\n",
       "      <td>100.297315</td>\n",
       "      <td>3.364155e-162</td>\n",
       "      <td>0.065264</td>\n",
       "    </tr>\n",
       "    <tr>\n",
       "      <th>10</th>\n",
       "      <td>Sex * ResearchDate * MediaType</td>\n",
       "      <td>2.588120e+08</td>\n",
       "      <td>4.0</td>\n",
       "      <td>6.470299e+07</td>\n",
       "      <td>0.472360</td>\n",
       "      <td>7.560827e-01</td>\n",
       "      <td>0.000164</td>\n",
       "    </tr>\n",
       "    <tr>\n",
       "      <th>11</th>\n",
       "      <td>Sex * ResearchDate * AgeGroup</td>\n",
       "      <td>7.207958e+08</td>\n",
       "      <td>8.0</td>\n",
       "      <td>9.009948e+07</td>\n",
       "      <td>0.657766</td>\n",
       "      <td>7.292089e-01</td>\n",
       "      <td>0.000458</td>\n",
       "    </tr>\n",
       "    <tr>\n",
       "      <th>12</th>\n",
       "      <td>Sex * MediaType * AgeGroup</td>\n",
       "      <td>4.122940e+08</td>\n",
       "      <td>8.0</td>\n",
       "      <td>5.153676e+07</td>\n",
       "      <td>0.376241</td>\n",
       "      <td>9.337083e-01</td>\n",
       "      <td>0.000262</td>\n",
       "    </tr>\n",
       "    <tr>\n",
       "      <th>13</th>\n",
       "      <td>ResearchDate * MediaType * AgeGroup</td>\n",
       "      <td>7.316697e+08</td>\n",
       "      <td>16.0</td>\n",
       "      <td>4.572936e+07</td>\n",
       "      <td>0.333844</td>\n",
       "      <td>9.937639e-01</td>\n",
       "      <td>0.000465</td>\n",
       "    </tr>\n",
       "    <tr>\n",
       "      <th>14</th>\n",
       "      <td>Sex * ResearchDate * MediaType * AgeGroup</td>\n",
       "      <td>1.002055e+09</td>\n",
       "      <td>16.0</td>\n",
       "      <td>6.262845e+07</td>\n",
       "      <td>0.457215</td>\n",
       "      <td>9.666434e-01</td>\n",
       "      <td>0.000636</td>\n",
       "    </tr>\n",
       "    <tr>\n",
       "      <th>15</th>\n",
       "      <td>Residual</td>\n",
       "      <td>1.574152e+12</td>\n",
       "      <td>11492.0</td>\n",
       "      <td>1.369780e+08</td>\n",
       "      <td>NaN</td>\n",
       "      <td>NaN</td>\n",
       "      <td>NaN</td>\n",
       "    </tr>\n",
       "  </tbody>\n",
       "</table>\n",
       "</div>"
      ],
      "text/plain": [
       "                                       Source            SS       DF  \\\n",
       "0                                         Sex  6.453246e+09      1.0   \n",
       "1                                ResearchDate  6.344275e+08      2.0   \n",
       "2                                   MediaType  2.045159e+11      2.0   \n",
       "3                                    AgeGroup  1.612193e+10      4.0   \n",
       "4                          Sex * ResearchDate  8.605177e+07      2.0   \n",
       "5                             Sex * MediaType  3.367468e+09      2.0   \n",
       "6                    ResearchDate * MediaType  5.595588e+09      4.0   \n",
       "7                              Sex * AgeGroup  9.575548e+08      4.0   \n",
       "8                     ResearchDate * AgeGroup  5.741438e+08      8.0   \n",
       "9                        MediaType * AgeGroup  1.099082e+11      8.0   \n",
       "10             Sex * ResearchDate * MediaType  2.588120e+08      4.0   \n",
       "11              Sex * ResearchDate * AgeGroup  7.207958e+08      8.0   \n",
       "12                 Sex * MediaType * AgeGroup  4.122940e+08      8.0   \n",
       "13        ResearchDate * MediaType * AgeGroup  7.316697e+08     16.0   \n",
       "14  Sex * ResearchDate * MediaType * AgeGroup  1.002055e+09     16.0   \n",
       "15                                   Residual  1.574152e+12  11492.0   \n",
       "\n",
       "              MS           F          p-unc       np2  \n",
       "0   6.453246e+09   47.111539   7.051057e-12  0.004083  \n",
       "1   3.172138e+08    2.315800   9.873322e-02  0.000403  \n",
       "2   1.022579e+11  746.528078  1.530938e-305  0.114983  \n",
       "3   4.030483e+09   29.424301   2.213448e-24  0.010138  \n",
       "4   4.302589e+07    0.314108   7.304465e-01  0.000055  \n",
       "5   1.683734e+09   12.292000   4.648940e-06  0.002135  \n",
       "6   1.398897e+09   10.212565   2.983057e-08  0.003542  \n",
       "7   2.393887e+08    1.747643   1.364678e-01  0.000608  \n",
       "8   7.176798e+07    0.523938   8.394140e-01  0.000365  \n",
       "9   1.373853e+10  100.297315  3.364155e-162  0.065264  \n",
       "10  6.470299e+07    0.472360   7.560827e-01  0.000164  \n",
       "11  9.009948e+07    0.657766   7.292089e-01  0.000458  \n",
       "12  5.153676e+07    0.376241   9.337083e-01  0.000262  \n",
       "13  4.572936e+07    0.333844   9.937639e-01  0.000465  \n",
       "14  6.262845e+07    0.457215   9.666434e-01  0.000636  \n",
       "15  1.369780e+08         NaN            NaN       NaN  "
      ]
     },
     "execution_count": 37,
     "metadata": {},
     "output_type": "execute_result"
    }
   ],
   "source": [
    "'''Проведем многофакторный дисперсионный анализ'''\n",
    "pg.anova(data = prep_df, dv = 'Duration', between = ['Sex', 'ResearchDate', 'MediaType', 'AgeGroup'])"
   ]
  },
  {
   "cell_type": "code",
   "execution_count": null,
   "metadata": {},
   "outputs": [],
   "source": []
  },
  {
   "cell_type": "code",
   "execution_count": null,
   "metadata": {},
   "outputs": [],
   "source": []
  },
  {
   "cell_type": "markdown",
   "metadata": {},
   "source": [
    "Выводы:\n",
    "Основной зависимой переменной является Duration.\n",
    "1) Рассматривается период 09.02.2023 - 11.02.2023. Выявлено, что суммарный просмотр медиа респондентов по дням сильно не отличается, в том числе различий между буднями и выходным;\n",
    "2) Рассматриваются разные возрастные группы. Выявлено, что возрастная группа 55+ пользуется медиа гораздо чаще остальных возрастных групп;\n",
    "3) Рассматриваются различия по просмотрам между Мужчинами и женщинами. Выявлено, что Женщины тратят значительно больше времени на просмотр медиа, чем Мужчины;\n",
    "4) Рассматриваются различия по просмотрам трех разных медиа. Выявлена стат значимая разница между просмотрами трех разных медиа. Медиа Mobile смотрят гораздо чаще, чем TV или радио;\n",
    "5) Также были искусственно созданны временные периоды дня (Утро, День, Вечер, Ночь). Выявлено, что просмотры в разные периоды стат значимо различаются. Вечером респонденты тратят сильно больше времени на медиа.\n",
    "6) Рассматривались влияние на Duration совокупности разных факторов. Выявлено, что Duration совокупностей: MediaType + ResearchDate; MediaType + Sex ; MediaType + AgeGroup сильно отличается"
   ]
  },
  {
   "cell_type": "code",
   "execution_count": null,
   "metadata": {},
   "outputs": [],
   "source": []
  },
  {
   "cell_type": "code",
   "execution_count": 41,
   "metadata": {},
   "outputs": [],
   "source": [
    "'''Алгоритм расчета пересечения аудиторий разных медиа (Задание 5)'''\n",
    "def type_of_users_count(df):\n",
    "    df['watching'] = 1\n",
    "    task_5 = df.pivot_table(index = 'RespondentID', values = 'watching', columns = 'MediaType')\n",
    "    task_5 = task_5.fillna(0)\n",
    "\n",
    "    mobile_radio_tv_users = task_5[(task_5['Mobile'] == 1) & (task_5['Radio'] == 1) & (task_5['TV'] == 1)].shape[0]\n",
    "    mobile_radio_users = task_5[(task_5['Mobile'] == 1) & (task_5['Radio'] == 1) & (task_5['TV'] == 0)].shape[0]\n",
    "    mobile_tv_users = task_5[(task_5['Mobile'] == 1) & (task_5['Radio'] == 0) & (task_5['TV'] == 1)].shape[0]\n",
    "    tv_radio_users = task_5[(task_5['Mobile'] == 0) & (task_5['Radio'] == 1) & (task_5['TV'] == 1)].shape[0]\n",
    "    only_radio = task_5[(task_5['Mobile'] == 0) & (task_5['Radio'] == 1) & (task_5['TV'] == 0)].shape[0]\n",
    "    only_tv = task_5[(task_5['Mobile'] == 0) & (task_5['Radio'] == 0) & (task_5['TV'] == 1)].shape[0]\n",
    "    only_mobile = task_5[(task_5['Mobile'] == 1) & (task_5['Radio'] == 0) & (task_5['TV'] == 0)].shape[0]\n",
    "    type_of_users = [   'Респонденты, использующие все типы медиа', \\\n",
    "                        'Респонденты, использующие только мобильные и радио медиа', \\\n",
    "                        'Респонденты, использующие только мобильные и тв медиа', \\\n",
    "                        'Респонденты, использующие только тв и радио медиа', \\\n",
    "                        'Респонденты, использующие только радио медиа', \\\n",
    "                        'Респонденты, использующие только тв медиа', \\\n",
    "                        'Респонденты, использующие только мобильные медиа']\n",
    "    \n",
    "    result_task_5 = pd.DataFrame({'Кол-во пользователей': [mobile_radio_tv_users, mobile_radio_users, mobile_tv_users, tv_radio_users, only_radio, only_tv, only_mobile]}, index = type_of_users)\n",
    "    result_task_5.to_excel('task_5.xlsx')\n",
    "    return result_task_5   "
   ]
  },
  {
   "cell_type": "code",
   "execution_count": 42,
   "metadata": {},
   "outputs": [
    {
     "name": "stderr",
     "output_type": "stream",
     "text": [
      "C:\\Users\\Admin\\AppData\\Local\\Temp\\ipykernel_6416\\2243306587.py:3: SettingWithCopyWarning: \n",
      "A value is trying to be set on a copy of a slice from a DataFrame.\n",
      "Try using .loc[row_indexer,col_indexer] = value instead\n",
      "\n",
      "See the caveats in the documentation: https://pandas.pydata.org/pandas-docs/stable/user_guide/indexing.html#returning-a-view-versus-a-copy\n",
      "  df['watching'] = 1\n"
     ]
    },
    {
     "data": {
      "text/html": [
       "<div>\n",
       "<style scoped>\n",
       "    .dataframe tbody tr th:only-of-type {\n",
       "        vertical-align: middle;\n",
       "    }\n",
       "\n",
       "    .dataframe tbody tr th {\n",
       "        vertical-align: top;\n",
       "    }\n",
       "\n",
       "    .dataframe thead th {\n",
       "        text-align: right;\n",
       "    }\n",
       "</style>\n",
       "<table border=\"1\" class=\"dataframe\">\n",
       "  <thead>\n",
       "    <tr style=\"text-align: right;\">\n",
       "      <th></th>\n",
       "      <th>Кол-во пользователей</th>\n",
       "    </tr>\n",
       "  </thead>\n",
       "  <tbody>\n",
       "    <tr>\n",
       "      <th>Респонденты, использующие все типы медиа</th>\n",
       "      <td>1157</td>\n",
       "    </tr>\n",
       "    <tr>\n",
       "      <th>Респонденты, использующие только мобильные и радио медиа</th>\n",
       "      <td>136</td>\n",
       "    </tr>\n",
       "    <tr>\n",
       "      <th>Респонденты, использующие только мобильные и тв медиа</th>\n",
       "      <td>623</td>\n",
       "    </tr>\n",
       "    <tr>\n",
       "      <th>Респонденты, использующие только тв и радио медиа</th>\n",
       "      <td>12</td>\n",
       "    </tr>\n",
       "    <tr>\n",
       "      <th>Респонденты, использующие только радио медиа</th>\n",
       "      <td>0</td>\n",
       "    </tr>\n",
       "    <tr>\n",
       "      <th>Респонденты, использующие только тв медиа</th>\n",
       "      <td>19</td>\n",
       "    </tr>\n",
       "    <tr>\n",
       "      <th>Респонденты, использующие только мобильные медиа</th>\n",
       "      <td>185</td>\n",
       "    </tr>\n",
       "  </tbody>\n",
       "</table>\n",
       "</div>"
      ],
      "text/plain": [
       "                                                    Кол-во пользователей\n",
       "Респонденты, использующие все типы медиа                            1157\n",
       "Респонденты, использующие только мобильные и ра...                   136\n",
       "Респонденты, использующие только мобильные и тв...                   623\n",
       "Респонденты, использующие только тв и радио медиа                     12\n",
       "Респонденты, использующие только радио медиа                           0\n",
       "Респонденты, использующие только тв медиа                             19\n",
       "Респонденты, использующие только мобильные медиа                     185"
      ]
     },
     "execution_count": 42,
     "metadata": {},
     "output_type": "execute_result"
    }
   ],
   "source": [
    "type_of_users_count(df)"
   ]
  }
 ],
 "metadata": {
  "kernelspec": {
   "display_name": "Python 3",
   "language": "python",
   "name": "python3"
  },
  "language_info": {
   "codemirror_mode": {
    "name": "ipython",
    "version": 3
   },
   "file_extension": ".py",
   "mimetype": "text/x-python",
   "name": "python",
   "nbconvert_exporter": "python",
   "pygments_lexer": "ipython3",
   "version": "3.12.2"
  }
 },
 "nbformat": 4,
 "nbformat_minor": 2
}
